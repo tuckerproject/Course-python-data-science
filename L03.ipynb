{
  "nbformat": 4,
  "nbformat_minor": 0,
  "metadata": {
    "colab": {
      "name": "L03.ipynb",
      "provenance": [],
      "collapsed_sections": [],
      "include_colab_link": true
    },
    "language_info": {
      "codemirror_mode": {
        "name": "ipython",
        "version": 3
      },
      "file_extension": ".py",
      "mimetype": "text/x-python",
      "name": "python",
      "nbconvert_exporter": "python",
      "pygments_lexer": "ipython3",
      "version": "3.6.8"
    },
    "kernelspec": {
      "display_name": "Python 3",
      "language": "python",
      "name": "python3"
    }
  },
  "cells": [
    {
      "cell_type": "markdown",
      "metadata": {
        "id": "view-in-github",
        "colab_type": "text"
      },
      "source": [
        "<a href=\"https://colab.research.google.com/github/tuckerproject/Course-python-data-science/blob/master/L03.ipynb\" target=\"_parent\"><img src=\"https://colab.research.google.com/assets/colab-badge.svg\" alt=\"Open In Colab\"/></a>"
      ]
    },
    {
      "cell_type": "markdown",
      "metadata": {
        "id": "GpvV_AujsZiy"
      },
      "source": [
        "In this notebook, we'll train a decision tree classifier on diabetes data and visualize the decision tree with graphviz"
      ]
    },
    {
      "cell_type": "code",
      "metadata": {
        "id": "SRuv4R9-hMbC"
      },
      "source": [
        "from sklearn import tree\n",
        "import graphviz "
      ],
      "execution_count": 1,
      "outputs": []
    },
    {
      "cell_type": "markdown",
      "metadata": {
        "id": "TgW4kceYvRQ0"
      },
      "source": [
        "here we download the data from plotly"
      ]
    },
    {
      "cell_type": "code",
      "metadata": {
        "id": "tRrhV7O9qhG2",
        "colab": {
          "base_uri": "https://localhost:8080/"
        },
        "outputId": "381ad4cd-c44f-431f-baa2-290e900f6cb6"
      },
      "source": [
        "!wget https://raw.githubusercontent.com/plotly/datasets/master/diabetes.csv"
      ],
      "execution_count": 2,
      "outputs": [
        {
          "output_type": "stream",
          "text": [
            "--2020-12-28 23:24:33--  https://raw.githubusercontent.com/plotly/datasets/master/diabetes.csv\n",
            "Resolving raw.githubusercontent.com (raw.githubusercontent.com)... 151.101.0.133, 151.101.64.133, 151.101.128.133, ...\n",
            "Connecting to raw.githubusercontent.com (raw.githubusercontent.com)|151.101.0.133|:443... connected.\n",
            "HTTP request sent, awaiting response... 200 OK\n",
            "Length: 23873 (23K) [text/plain]\n",
            "Saving to: ‘diabetes.csv’\n",
            "\n",
            "diabetes.csv        100%[===================>]  23.31K  --.-KB/s    in 0s      \n",
            "\n",
            "2020-12-28 23:24:33 (82.3 MB/s) - ‘diabetes.csv’ saved [23873/23873]\n",
            "\n"
          ],
          "name": "stdout"
        }
      ]
    },
    {
      "cell_type": "markdown",
      "metadata": {
        "id": "W-N5tYJ5yUkH"
      },
      "source": [
        "Next, we'll manually process the data from its comma separated value (csv) format"
      ]
    },
    {
      "cell_type": "code",
      "metadata": {
        "id": "WqdKcoMTD18H"
      },
      "source": [
        "with open(\"diabetes.csv\", \"r\") as f:\n",
        "    data = f.readlines()\n",
        "feats = data[0]\n",
        "feats = feats.replace('\\n','')\n",
        "feats = feats.split(\",\")"
      ],
      "execution_count": 3,
      "outputs": []
    },
    {
      "cell_type": "markdown",
      "metadata": {
        "id": "qxVqoN0qydem"
      },
      "source": [
        "Let's print the columns in the dataset"
      ]
    },
    {
      "cell_type": "code",
      "metadata": {
        "id": "PV-Q-rL1EXhX",
        "colab": {
          "base_uri": "https://localhost:8080/"
        },
        "outputId": "822336fa-342c-4464-c29e-dc0de1531c84"
      },
      "source": [
        "print(feats)"
      ],
      "execution_count": 4,
      "outputs": [
        {
          "output_type": "stream",
          "text": [
            "['Pregnancies', 'Glucose', 'BloodPressure', 'SkinThickness', 'Insulin', 'BMI', 'DiabetesPedigreeFunction', 'Age', 'Outcome']\n"
          ],
          "name": "stdout"
        }
      ]
    },
    {
      "cell_type": "markdown",
      "metadata": {
        "id": "Rvq-8FZCyg00"
      },
      "source": [
        "We now load the data into a list, `dat` and create a variable `labs` containing the label for a positive or negative example of diabetes"
      ]
    },
    {
      "cell_type": "code",
      "metadata": {
        "id": "rVxu9TkyEiQH"
      },
      "source": [
        "feats = feats[0:(len(feats)-1)]\t\n",
        "dat = []\t\t\t\t\n",
        "labs = []\t\t\t\n",
        "for i in range(1,len(data)):\t\n",
        "     line = data[i]\t\t\n",
        "     line = line.replace('\\n','')\t\t\n",
        "     csvline = line.split(\",\")\t\t\n",
        "     labs = labs + [int(csvline[len(csvline)-1])]\n",
        "     csvline = [float(csvline[i]) for i in range(len(csvline)-1)]\n",
        "     dat = dat + [csvline]\t\t"
      ],
      "execution_count": 6,
      "outputs": []
    },
    {
      "cell_type": "markdown",
      "metadata": {
        "id": "OAvmkwwmyuVJ"
      },
      "source": [
        "Let's find out how many examples we have"
      ]
    },
    {
      "cell_type": "code",
      "metadata": {
        "id": "sHgQS_h8E3sB",
        "colab": {
          "base_uri": "https://localhost:8080/"
        },
        "outputId": "04f7da6b-7b58-4ccf-901e-8d2d840a4daf"
      },
      "source": [
        "print(len(dat))"
      ],
      "execution_count": 7,
      "outputs": [
        {
          "output_type": "stream",
          "text": [
            "768\n"
          ],
          "name": "stdout"
        }
      ]
    },
    {
      "cell_type": "markdown",
      "metadata": {
        "id": "r3a9GMInyyDw"
      },
      "source": [
        "We can also examine an example row in the data, row 15"
      ]
    },
    {
      "cell_type": "code",
      "metadata": {
        "id": "kutHBKa8FB5C",
        "colab": {
          "base_uri": "https://localhost:8080/"
        },
        "outputId": "4690c61c-df88-412b-e024-aca34ae75199"
      },
      "source": [
        "print(dat[15])"
      ],
      "execution_count": 8,
      "outputs": [
        {
          "output_type": "stream",
          "text": [
            "[7.0, 100.0, 0.0, 0.0, 0.0, 30.0, 0.484, 32.0]\n"
          ],
          "name": "stdout"
        }
      ]
    },
    {
      "cell_type": "markdown",
      "metadata": {
        "id": "e67tly6Ky3ZY"
      },
      "source": [
        "Using scikit-learn, a machine learning library in Python, we'll train a decision tree 3 decision rules and fit it to our data and labels"
      ]
    },
    {
      "cell_type": "code",
      "metadata": {
        "id": "UtT86_hiFsef"
      },
      "source": [
        "\n",
        "clf = tree.DecisionTreeClassifier(max_leaf_nodes = 3)\t\n",
        "clf = clf.fit(dat, labs)\t\t\t"
      ],
      "execution_count": 9,
      "outputs": []
    },
    {
      "cell_type": "markdown",
      "metadata": {
        "id": "DIOjfBDBzJfi"
      },
      "source": [
        "We can calculate the accuracy of this model"
      ]
    },
    {
      "cell_type": "code",
      "metadata": {
        "id": "zcKqYHXJFvvn",
        "colab": {
          "base_uri": "https://localhost:8080/"
        },
        "outputId": "4c150db7-e448-48b9-950c-cc6788e6ba86"
      },
      "source": [
        "correct = 0\t\t\t\t\t\t\n",
        "for i in range(len(dat)):\t\n",
        "    if clf.predict([dat[i]]) == labs[i]: correct = correct + 1\n",
        "100.0* correct / len(dat)"
      ],
      "execution_count": 12,
      "outputs": [
        {
          "output_type": "execute_result",
          "data": {
            "text/plain": [
              "77.21354166666667"
            ]
          },
          "metadata": {
            "tags": []
          },
          "execution_count": 12
        }
      ]
    },
    {
      "cell_type": "markdown",
      "metadata": {
        "id": "OTsW65XazMob"
      },
      "source": [
        "Finally, we'll visualze our decision tree"
      ]
    },
    {
      "cell_type": "code",
      "metadata": {
        "id": "f2t4dTDlF3Ru",
        "colab": {
          "base_uri": "https://localhost:8080/",
          "height": 340
        },
        "outputId": "9900057e-2808-44e5-f740-8ee6715aa069"
      },
      "source": [
        "dot_data = tree.export_graphviz(clf, feature_names=feats, filled=True, rounded=True) \n",
        "graph = graphviz.Source(dot_data)\t\n",
        "graph\t"
      ],
      "execution_count": 16,
      "outputs": [
        {
          "output_type": "error",
          "ename": "ValueError",
          "evalue": "ignored",
          "traceback": [
            "\u001b[0;31m---------------------------------------------------------------------------\u001b[0m",
            "\u001b[0;31mValueError\u001b[0m                                Traceback (most recent call last)",
            "\u001b[0;32m<ipython-input-16-dfd93fecb0ca>\u001b[0m in \u001b[0;36m<module>\u001b[0;34m()\u001b[0m\n\u001b[0;32m----> 1\u001b[0;31m \u001b[0mdot_data\u001b[0m \u001b[0;34m=\u001b[0m \u001b[0mtree\u001b[0m\u001b[0;34m.\u001b[0m\u001b[0mexport_graphviz\u001b[0m\u001b[0;34m(\u001b[0m\u001b[0mclf\u001b[0m\u001b[0;34m,\u001b[0m \u001b[0mfeature_names\u001b[0m\u001b[0;34m=\u001b[0m\u001b[0mfeats\u001b[0m\u001b[0;34m,\u001b[0m \u001b[0mfilled\u001b[0m\u001b[0;34m=\u001b[0m\u001b[0;32mTrue\u001b[0m\u001b[0;34m,\u001b[0m \u001b[0mrounded\u001b[0m\u001b[0;34m=\u001b[0m\u001b[0;32mTrue\u001b[0m\u001b[0;34m)\u001b[0m\u001b[0;34m\u001b[0m\u001b[0;34m\u001b[0m\u001b[0m\n\u001b[0m\u001b[1;32m      2\u001b[0m \u001b[0mgraph\u001b[0m \u001b[0;34m=\u001b[0m \u001b[0mgraphviz\u001b[0m\u001b[0;34m.\u001b[0m\u001b[0mSource\u001b[0m\u001b[0;34m(\u001b[0m\u001b[0mdot_data\u001b[0m\u001b[0;34m)\u001b[0m\u001b[0;34m\u001b[0m\u001b[0;34m\u001b[0m\u001b[0m\n\u001b[1;32m      3\u001b[0m \u001b[0mgraph\u001b[0m\u001b[0;34m\u001b[0m\u001b[0;34m\u001b[0m\u001b[0m\n",
            "\u001b[0;32m/usr/local/lib/python3.6/dist-packages/sklearn/tree/_export.py\u001b[0m in \u001b[0;36mexport_graphviz\u001b[0;34m(decision_tree, out_file, max_depth, feature_names, class_names, label, filled, leaves_parallel, impurity, node_ids, proportion, rotate, rounded, special_characters, precision)\u001b[0m\n\u001b[1;32m    762\u001b[0m             \u001b[0mrounded\u001b[0m\u001b[0;34m=\u001b[0m\u001b[0mrounded\u001b[0m\u001b[0;34m,\u001b[0m \u001b[0mspecial_characters\u001b[0m\u001b[0;34m=\u001b[0m\u001b[0mspecial_characters\u001b[0m\u001b[0;34m,\u001b[0m\u001b[0;34m\u001b[0m\u001b[0;34m\u001b[0m\u001b[0m\n\u001b[1;32m    763\u001b[0m             precision=precision)\n\u001b[0;32m--> 764\u001b[0;31m         \u001b[0mexporter\u001b[0m\u001b[0;34m.\u001b[0m\u001b[0mexport\u001b[0m\u001b[0;34m(\u001b[0m\u001b[0mdecision_tree\u001b[0m\u001b[0;34m)\u001b[0m\u001b[0;34m\u001b[0m\u001b[0;34m\u001b[0m\u001b[0m\n\u001b[0m\u001b[1;32m    765\u001b[0m \u001b[0;34m\u001b[0m\u001b[0m\n\u001b[1;32m    766\u001b[0m         \u001b[0;32mif\u001b[0m \u001b[0mreturn_string\u001b[0m\u001b[0;34m:\u001b[0m\u001b[0;34m\u001b[0m\u001b[0;34m\u001b[0m\u001b[0m\n",
            "\u001b[0;32m/usr/local/lib/python3.6/dist-packages/sklearn/tree/_export.py\u001b[0m in \u001b[0;36mexport\u001b[0;34m(self, decision_tree)\u001b[0m\n\u001b[1;32m    397\u001b[0m                                  \u001b[0;34m\"does not match number of features, %d\"\u001b[0m\u001b[0;34m\u001b[0m\u001b[0;34m\u001b[0m\u001b[0m\n\u001b[1;32m    398\u001b[0m                                  % (len(self.feature_names),\n\u001b[0;32m--> 399\u001b[0;31m                                     decision_tree.n_features_))\n\u001b[0m\u001b[1;32m    400\u001b[0m         \u001b[0;31m# each part writes to out_file\u001b[0m\u001b[0;34m\u001b[0m\u001b[0;34m\u001b[0m\u001b[0;34m\u001b[0m\u001b[0m\n\u001b[1;32m    401\u001b[0m         \u001b[0mself\u001b[0m\u001b[0;34m.\u001b[0m\u001b[0mhead\u001b[0m\u001b[0;34m(\u001b[0m\u001b[0;34m)\u001b[0m\u001b[0;34m\u001b[0m\u001b[0;34m\u001b[0m\u001b[0m\n",
            "\u001b[0;31mValueError\u001b[0m: Length of feature_names, 7 does not match number of features, 8"
          ]
        }
      ]
    }
  ]
}