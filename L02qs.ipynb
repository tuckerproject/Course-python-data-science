{
  "nbformat": 4,
  "nbformat_minor": 0,
  "metadata": {
    "kernelspec": {
      "display_name": "Python 3",
      "language": "python",
      "name": "python3"
    },
    "language_info": {
      "codemirror_mode": {
        "name": "ipython",
        "version": 3
      },
      "file_extension": ".py",
      "mimetype": "text/x-python",
      "name": "python",
      "nbconvert_exporter": "python",
      "pygments_lexer": "ipython3",
      "version": "3.6.8"
    },
    "colab": {
      "name": "L02qs.ipynb",
      "provenance": [],
      "collapsed_sections": [],
      "include_colab_link": true
    }
  },
  "cells": [
    {
      "cell_type": "markdown",
      "metadata": {
        "id": "view-in-github",
        "colab_type": "text"
      },
      "source": [
        "<a href=\"https://colab.research.google.com/github/tuckerproject/Course-python-data-science/blob/master/L02qs.ipynb\" target=\"_parent\"><img src=\"https://colab.research.google.com/assets/colab-badge.svg\" alt=\"Open In Colab\"/></a>"
      ]
    },
    {
      "cell_type": "markdown",
      "metadata": {
        "id": "fvNbYpwLT1F7"
      },
      "source": [
        "Make and run a goodbye(x,y) program that writes x copies of hello, followed by y copies of goodbye. "
      ]
    },
    {
      "cell_type": "code",
      "metadata": {
        "id": "KYcxppRR5KWp"
      },
      "source": [
        "def goodbye(x,y):\n",
        "  for i in range(x):\n",
        "    print(\"hello\")\n",
        "  for i in range(y):\n",
        "    print(\"goodbye\")"
      ],
      "execution_count": 1,
      "outputs": []
    },
    {
      "cell_type": "code",
      "metadata": {
        "colab": {
          "base_uri": "https://localhost:8080/"
        },
        "id": "YWnTKT7KZcSc",
        "outputId": "62671a48-19ee-4b14-f79a-a844457eef32"
      },
      "source": [
        "goodbye(5,10)"
      ],
      "execution_count": 2,
      "outputs": [
        {
          "output_type": "stream",
          "text": [
            "hello\n",
            "hello\n",
            "hello\n",
            "hello\n",
            "hello\n",
            "goodbye\n",
            "goodbye\n",
            "goodbye\n",
            "goodbye\n",
            "goodbye\n",
            "goodbye\n",
            "goodbye\n",
            "goodbye\n",
            "goodbye\n",
            "goodbye\n"
          ],
          "name": "stdout"
        }
      ]
    },
    {
      "cell_type": "code",
      "metadata": {
        "id": "U_wg9hkiZl8B"
      },
      "source": [
        "def saysomething(x,y):\r\n",
        "  for i in range(x):\r\n",
        "    print(y)"
      ],
      "execution_count": 3,
      "outputs": []
    },
    {
      "cell_type": "code",
      "metadata": {
        "colab": {
          "base_uri": "https://localhost:8080/"
        },
        "id": "yYD4vEhHpJP8",
        "outputId": "ac459139-73f2-4271-82f3-56ccb71b5fc7"
      },
      "source": [
        "saysomething(5,\"What's up!\")"
      ],
      "execution_count": 5,
      "outputs": [
        {
          "output_type": "stream",
          "text": [
            "What's up!\n",
            "What's up!\n",
            "What's up!\n",
            "What's up!\n",
            "What's up!\n"
          ],
          "name": "stdout"
        }
      ]
    }
  ]
}